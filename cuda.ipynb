{
 "cells": [
  {
   "cell_type": "code",
   "execution_count": 1,
   "metadata": {},
   "outputs": [
    {
     "name": "stdout",
     "output_type": "stream",
     "text": [
      "Need to fix import\n"
     ]
    }
   ],
   "source": [
    "import os\n",
    "import sys\n",
    "\n",
    "try:\n",
    "    import cuda_backend\n",
    "except:\n",
    "    from cuda_backend import add\n",
    "    print('Need to fix import')"
   ]
  },
  {
   "cell_type": "code",
   "execution_count": 2,
   "metadata": {},
   "outputs": [
    {
     "data": {
      "text/plain": [
       "array([5, 7, 9], dtype=int32)"
      ]
     },
     "execution_count": 2,
     "metadata": {},
     "output_type": "execute_result"
    }
   ],
   "source": [
    "import numpy as np\n",
    "a = [1, 2, 3]\n",
    "b = [4, 5, 6]\n",
    "\n",
    "add(a, b)"
   ]
  },
  {
   "cell_type": "code",
   "execution_count": null,
   "metadata": {},
   "outputs": [],
   "source": []
  },
  {
   "cell_type": "code",
   "execution_count": 1,
   "metadata": {},
   "outputs": [
    {
     "name": "stdout",
     "output_type": "stream",
     "text": [
      "Jupyter environment detected. Enabling Open3D WebVisualizer.\n",
      "[Open3D INFO] WebRTC GUI backend enabled.\n",
      "[Open3D INFO] WebRTCWindowSystem: HTTP handshake server disabled.\n"
     ]
    }
   ],
   "source": [
    "import numpy as np\n",
    "import open3d as o3d\n",
    "import matplotlib.pyplot as plt\n",
    "from concurrent.futures import ThreadPoolExecutor\n",
    "from utils.matrix import project_points, project_covariance, to_homogeneous\n",
    "from utils.colmap_data import COLMAP_Data\n",
    "from utils.plot_utils import create_ellipsoids_as_one_mesh\n",
    "from src.gaussian import GaussianSplatting\n",
    "from matplotlib.collections import EllipseCollection\n",
    "from scipy.stats import chi2"
   ]
  },
  {
   "cell_type": "code",
   "execution_count": 2,
   "metadata": {},
   "outputs": [
    {
     "name": "stdout",
     "output_type": "stream",
     "text": [
      "frame_00001.png\n",
      "(56042, 3)\n"
     ]
    }
   ],
   "source": [
    "colmap_data = COLMAP_Data(\"data/sparse/0\")\n",
    "model = GaussianSplatting(colmap_data)\n",
    "sigmas = model.init_gaussian_covariance()\n",
    "\n",
    "E = colmap_data.E[colmap_data.frame_names[1]]\n",
    "K = colmap_data.K\n",
    "distortion = colmap_data.distortion\n",
    "points = colmap_data.points\n",
    "colors = colmap_data.colors\n",
    "width = colmap_data.width\n",
    "height = colmap_data.height\n",
    "print(colmap_data.frame_names[1])\n",
    "print(points.shape)"
   ]
  },
  {
   "cell_type": "code",
   "execution_count": 3,
   "metadata": {},
   "outputs": [],
   "source": [
    "sigma_2d = project_covariance(points, sigmas, E, K)\n",
    "points_2d, depths = project_points(points, E, K, return_depth=True)"
   ]
  },
  {
   "cell_type": "code",
   "execution_count": 4,
   "metadata": {},
   "outputs": [],
   "source": [
    "\n",
    "# naive culling\n",
    "# bound_indices = (points_2d >= 0).all(axis=1) & \\\n",
    "#     (points_2d < [colmap_data.width, colmap_data.height]).all(axis=1)\n",
    "\n",
    "## 99% confidence interval in view frustum\n",
    "\"\"\"\n",
    "99% confidence interval for 2D Gaussian: χ2,2_0.992 ≈3.04\n",
    "Confidence ellipsoid is scaled by 3.04 times the eigenvalues of the covariance matrix.\n",
    "\"\"\"\n",
    "\n",
    "def get_covariance_bounds(sigma_2d):\n",
    "    chi2_threshold = chi2.ppf(0.99, df=2)  # 99% confidence interval for 2D Gaussian\n",
    "\n",
    "    scale_squared, rotation = np.linalg.eigh(sigma_2d * 0.1)\n",
    "    extents = np.sqrt(scale_squared * chi2_threshold)\n",
    "    return extents\n",
    "\n",
    "bound_indices = []\n",
    "extents = get_covariance_bounds(sigma_2d)\n",
    "points_min = points_2d - extents\n",
    "points_max = points_2d + extents\n",
    "\n",
    "# Check all bounds conditions in a vectorized way\n",
    "in_bounds = (points_min[:, 0] > 0) & (points_min[:, 1] > 0) & \\\n",
    "            (points_max[:, 0] < colmap_data.width) & (points_max[:, 1] < colmap_data.height)\n",
    "bound_indices = np.where(in_bounds)[0]"
   ]
  },
  {
   "cell_type": "code",
   "execution_count": 5,
   "metadata": {},
   "outputs": [],
   "source": [
    "bounded_points_2d = points_2d[bound_indices]\n",
    "bounded_colors = colmap_data.colors[bound_indices]\n",
    "bounded_depths = depths[bound_indices]\n",
    "\n",
    "bounded_sigmas_2d = sigma_2d[bound_indices]\n",
    "bounded_sigmas = sigmas[bound_indices]\n",
    "bounded_extents = extents[bound_indices]"
   ]
  },
  {
   "cell_type": "code",
   "execution_count": 6,
   "metadata": {},
   "outputs": [],
   "source": [
    "def get_splats_per_tile(points_2d, extents, n=16):\n",
    "        n = 16\n",
    "        padding_x = (width % n) // 2\n",
    "        padding_y = (height % n) // 2\n",
    "\n",
    "        tiles = np.array(np.meshgrid(np.arange(padding_x, width+padding_x, n), \n",
    "                                np.arange(padding_y, height+padding_y, n))).T.reshape(-1, 2)\n",
    "\n",
    "        tiles_expanded = tiles[:, np.newaxis, :]  # Shape: (2135, 1, 2)\n",
    "        points_expanded = points_2d[np.newaxis, :, :]  # Shape: (1, 8108, 2)\n",
    "        extent_expanded = extents[np.newaxis, :, :]  # Shape: (1, 8108, 2)\n",
    "\n",
    "        x_dist = (tiles_expanded[:, :, 0] - points_expanded[:, :, 0])**2  # Shape: (2135, 8108)\n",
    "        y_dist = (tiles_expanded[:, :, 1] - points_expanded[:, :, 1])**2  # Shape: (2135, 8108)\n",
    "\n",
    "        dist = (x_dist / extent_expanded[:, :, 0]**2 + y_dist / extent_expanded[:, :, 1]**2)  # Shape: (2135, 8108)\n",
    "\n",
    "        in_ellipse_mask = dist <= 1  # Shape: (2135, 8108)\n",
    "\n",
    "        points_indices_per_tile = [np.where(in_ellipse_mask[i])[0] for i in range(len(tiles))]\n",
    "        return points_indices_per_tile"
   ]
  },
  {
   "cell_type": "code",
   "execution_count": 7,
   "metadata": {},
   "outputs": [],
   "source": [
    "# for each tile, we have a list of gaussian indices\n",
    "\n",
    "# convert them to [depth - tile_idx] 64 bits and radix sort\n",
    "\n",
    "depth_bits = bounded_depths.astype(np.float32)"
   ]
  },
  {
   "cell_type": "code",
   "execution_count": 8,
   "metadata": {},
   "outputs": [],
   "source": [
    "points_indices_per_tile = get_splats_per_tile(bounded_points_2d, bounded_extents)"
   ]
  },
  {
   "cell_type": "code",
   "execution_count": null,
   "metadata": {},
   "outputs": [],
   "source": []
  }
 ],
 "metadata": {
  "kernelspec": {
   "display_name": "3d",
   "language": "python",
   "name": "python3"
  },
  "language_info": {
   "codemirror_mode": {
    "name": "ipython",
    "version": 3
   },
   "file_extension": ".py",
   "mimetype": "text/x-python",
   "name": "python",
   "nbconvert_exporter": "python",
   "pygments_lexer": "ipython3",
   "version": "3.10.16"
  }
 },
 "nbformat": 4,
 "nbformat_minor": 2
}
