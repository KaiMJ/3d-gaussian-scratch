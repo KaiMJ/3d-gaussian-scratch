{
 "cells": [
  {
   "cell_type": "code",
   "execution_count": 1,
   "metadata": {},
   "outputs": [
    {
     "name": "stdout",
     "output_type": "stream",
     "text": [
      "Jupyter environment detected. Enabling Open3D WebVisualizer.\n",
      "[Open3D INFO] WebRTC GUI backend enabled.\n",
      "[Open3D INFO] WebRTCWindowSystem: HTTP handshake server disabled.\n",
      "Need to fix cuda import\n"
     ]
    }
   ],
   "source": [
    "import numpy as np\n",
    "import open3d as o3d\n",
    "import matplotlib.pyplot as plt\n",
    "from utils.matrix import project_points, project_covariance, to_homogeneous\n",
    "from utils.colmap_data import COLMAP_Data\n",
    "from utils.plot_utils import create_ellipsoids_as_one_mesh, plot_covariance, plot_points\n",
    "from src.gaussian import GaussianSplatting\n",
    "from scipy.stats import chi2\n",
    "import torch\n",
    "try:\n",
    "    import cuda_backend\n",
    "except:\n",
    "    from cuda_backend import add\n",
    "    print('Need to fix cuda import')"
   ]
  },
  {
   "cell_type": "code",
   "execution_count": 9,
   "metadata": {},
   "outputs": [
    {
     "data": {
      "text/plain": [
       "torch.Size([1000, 3])"
      ]
     },
     "execution_count": 9,
     "metadata": {},
     "output_type": "execute_result"
    }
   ],
   "source": [
    "colmap_data = COLMAP_Data(\"data/sparse/0\")\n",
    "\n",
    "frame_idx = 1\n",
    "E = colmap_data.E[colmap_data.frame_names[frame_idx]]\n",
    "K = colmap_data.K\n",
    "\n",
    "distortion = colmap_data.distortion\n",
    "points = colmap_data.points\n",
    "colors = colmap_data.colors\n",
    "width = colmap_data.width\n",
    "height = colmap_data.height\n",
    "\n",
    "sample_idxes = np.arange(1000)\n",
    "\n",
    "E = torch.tensor(E, dtype=torch.float32)\n",
    "K = torch.tensor(K, dtype=torch.float32)\n",
    "points = torch.tensor(points[sample_idxes], dtype=torch.float32)\n",
    "colors = torch.tensor(colors[sample_idxes], dtype=torch.float32)\n",
    "\n",
    "points.shape"
   ]
  },
  {
   "cell_type": "code",
   "execution_count": 10,
   "metadata": {},
   "outputs": [],
   "source": [
    "# gaussians: full 3D covariance matrix Σ defined in world space\n",
    "# 𝐺(𝑥) = 𝑒^(-0.5 * (𝑥T) Inv(Σ) (𝑥)\n",
    "# gaussians_2d: Σ′ = 𝐽𝑊 Σ 𝑊𝑇 𝐽T\n"
   ]
  },
  {
   "cell_type": "code",
   "execution_count": 65,
   "metadata": {},
   "outputs": [],
   "source": [
    "from scipy.spatial import KDTree\n",
    "\n",
    "kdtree = KDTree(points)\n",
    "distances, _ = kdtree.query(points, k=4)  # k=4 includes the point itself\n",
    "nearest_distances = distances[:, 1:4]\n",
    "mean_distances = nearest_distances.mean(axis=1)"
   ]
  },
  {
   "cell_type": "code",
   "execution_count": 66,
   "metadata": {},
   "outputs": [],
   "source": [
    "def q2r(Q):\n",
    "    batch_size = Q.size(0)\n",
    "    R = torch.zeros((batch_size, 3, 3), dtype=Q.dtype, device=Q.device)\n",
    "    \n",
    "    R[:, 0, 0] = torch.ones_like(Q[:, 0]) - 2 * (Q[:, 2].pow(2) + Q[:, 3].pow(2))\n",
    "    R[:, 0, 1] = 2 * (Q[:, 1] * Q[:, 2] - Q[:, 0] * Q[:, 3])\n",
    "    R[:, 0, 2] = 2 * (Q[:, 3] * Q[:, 1] + Q[:, 0] * Q[:, 2])\n",
    "    \n",
    "    R[:, 1, 0] = 2 * (Q[:, 1] * Q[:, 2] + Q[:, 0] * Q[:, 3])\n",
    "    R[:, 1, 1] = torch.ones_like(Q[:, 0]) - 2 * (Q[:, 1].pow(2) + Q[:, 3].pow(2))\n",
    "    R[:, 1, 2] = 2 * (Q[:, 2] * Q[:, 3] - Q[:, 0] * Q[:, 1])\n",
    "    \n",
    "    R[:, 2, 0] = 2 * (Q[:, 3] * Q[:, 1] - Q[:, 0] * Q[:, 2])\n",
    "    R[:, 2, 1] = 2 * (Q[:, 2] * Q[:, 3] + Q[:, 0] * Q[:, 1])\n",
    "    R[:, 2, 2] = torch.ones_like(Q[:, 0]) - 2 * (Q[:, 1].pow(2) + Q[:, 2].pow(2))\n",
    "    return R"
   ]
  },
  {
   "cell_type": "code",
   "execution_count": 67,
   "metadata": {},
   "outputs": [],
   "source": [
    "# We estimate the initial covariance matrix as an isotropic Gaussian with axes equal to the mean of the distance to the closest three points\n",
    "# To allow independent optimization of both factors, we store them separately:\n",
    "# a 3D vector 𝑠 for scaling and a quaternion 𝑞 to represent rotation\n",
    "\n",
    "## ----- initialize Q and S -----\n",
    "q = torch.tensor([1, 0, 0, 0], dtype=torch.float32)\n",
    "Q = torch.repeat_interleave(q.unsqueeze(0), len(points), dim=0)\n",
    "Q = Q / torch.norm(Q, dim=1, keepdim=True)\n",
    "\n",
    "s = torch.sqrt(torch.tensor(mean_distances, dtype=torch.float32))\n",
    "S = torch.repeat_interleave(s.unsqueeze(1), 3, dim=1)\n",
    "\n",
    "## ----- initialize Covariance Matrix -----\n",
    "# Σ = 𝑅 𝑆 𝑆𝑇 𝑅T\n",
    "\n",
    "Q.requires_grad = True\n",
    "S.requires_grad = True\n",
    "\n",
    "S_activation = torch.sigmoid(S)\n",
    "S_diag = torch.diag_embed(S_activation)\n",
    "R = q2r(Q)\n",
    "L = (R @ S_diag)\n",
    "G = L @ L.transpose(1, 2)"
   ]
  },
  {
   "cell_type": "code",
   "execution_count": 68,
   "metadata": {},
   "outputs": [],
   "source": [
    "## ----- project gaussian to 2D -----\n",
    "# Σ′ = 𝐽𝑊 Σ 𝑊𝑇T\n",
    "\n",
    "# first project points"
   ]
  },
  {
   "cell_type": "code",
   "execution_count": 69,
   "metadata": {},
   "outputs": [],
   "source": [
    "def to_homogeneous(x):\n",
    "    return torch.cat([x, torch.ones((len(x), 1))], dim=1)\n",
    "mu_h = to_homogeneous(points)\n",
    "\n",
    "mu_cam_h = mu_h @ E.T\n",
    "mu_x = mu_cam_h[:, 0]\n",
    "mu_y = mu_cam_h[:, 1]\n",
    "mu_z = mu_cam_h[:, 2]\n",
    "\n",
    "mu_cam = mu_cam_h[:, :2] / mu_z.unsqueeze(1)\n",
    "mu_2d_h = to_homogeneous(mu_cam) @ K.T\n",
    "mu_2d = mu_2d_h[:, :2]"
   ]
  },
  {
   "cell_type": "code",
   "execution_count": 70,
   "metadata": {},
   "outputs": [
    {
     "data": {
      "text/plain": [
       "tensor([[ 720.2300,  -94.8652],\n",
       "        [ 122.7355, -380.7433],\n",
       "        [ 535.2180, -417.9586],\n",
       "        ...,\n",
       "        [ 182.8152, -374.1745],\n",
       "        [ 143.0568, -216.4086],\n",
       "        [ 280.3484, -142.2553]])"
      ]
     },
     "execution_count": 70,
     "metadata": {},
     "output_type": "execute_result"
    }
   ],
   "source": [
    "mu_2d"
   ]
  },
  {
   "cell_type": "code",
   "execution_count": 71,
   "metadata": {},
   "outputs": [],
   "source": [
    "J = torch.zeros((len(mu_cam), 2, 3))\n",
    "fx, fy = K[0, 0], K[1, 1]\n",
    "\n",
    "J[:, 0, 0] = fx / mu_z\n",
    "J[:, 0, 2] = -fx * mu_x / mu_z**2\n",
    "J[:, 1, 1] = fy / mu_z\n",
    "J[:, 1, 2] = -fy * mu_y / mu_z**2"
   ]
  },
  {
   "cell_type": "code",
   "execution_count": 72,
   "metadata": {},
   "outputs": [],
   "source": [
    "W = E[:3, :3] # (3,3) (R)\n",
    "U = J @ W # (N, 2, 4)\n",
    "\n",
    "G_2d = U @ G @ U.transpose(1, 2)"
   ]
  },
  {
   "cell_type": "code",
   "execution_count": 73,
   "metadata": {},
   "outputs": [
    {
     "data": {
      "text/plain": [
       "tensor([[[ 1116.0637,  -265.8783],\n",
       "         [ -265.8783,  1334.1926]],\n",
       "\n",
       "        [[21086.7266, 11196.3242],\n",
       "         [11196.3242, 35164.6562]],\n",
       "\n",
       "        [[22212.2637, -2693.5039],\n",
       "         [-2693.5039, 55305.7656]],\n",
       "\n",
       "        ...,\n",
       "\n",
       "        [[16398.8164,  7877.2007],\n",
       "         [ 7877.2012, 29695.0000]],\n",
       "\n",
       "        [[ 9999.3154,  3867.3872],\n",
       "         [ 3867.3872, 12820.5098]],\n",
       "\n",
       "        [[ 4658.7954,  1095.3286],\n",
       "         [ 1095.3286,  6343.3945]]], grad_fn=<UnsafeViewBackward0>)"
      ]
     },
     "execution_count": 73,
     "metadata": {},
     "output_type": "execute_result"
    }
   ],
   "source": [
    "G_2d"
   ]
  },
  {
   "cell_type": "code",
   "execution_count": 74,
   "metadata": {},
   "outputs": [],
   "source": [
    "loss = torch.mean(torch.linalg.inv(G_2d))"
   ]
  },
  {
   "cell_type": "code",
   "execution_count": 75,
   "metadata": {},
   "outputs": [],
   "source": [
    "Q.grad = None\n",
    "S.grad = None"
   ]
  },
  {
   "cell_type": "code",
   "execution_count": 76,
   "metadata": {},
   "outputs": [],
   "source": [
    "loss.backward()\n"
   ]
  },
  {
   "cell_type": "code",
   "execution_count": 77,
   "metadata": {},
   "outputs": [
    {
     "data": {
      "text/plain": [
       "tensor([[-3.5489e-08, -2.3312e-08, -2.7118e-10],\n",
       "        [-5.2667e-09, -7.7291e-10, -5.6912e-09],\n",
       "        [-9.1867e-09, -1.4412e-09, -1.3583e-09],\n",
       "        ...,\n",
       "        [-5.6518e-09, -7.3903e-10, -4.6988e-09],\n",
       "        [-9.3981e-09, -3.8168e-09, -1.1387e-08],\n",
       "        [-3.3430e-08, -1.3386e-08, -2.0576e-08]])"
      ]
     },
     "execution_count": 77,
     "metadata": {},
     "output_type": "execute_result"
    }
   ],
   "source": [
    "S.grad"
   ]
  },
  {
   "cell_type": "code",
   "execution_count": 78,
   "metadata": {},
   "outputs": [
    {
     "data": {
      "text/plain": [
       "tensor([[0., 0., 0., 0.],\n",
       "        [0., 0., 0., 0.],\n",
       "        [0., 0., 0., 0.],\n",
       "        ...,\n",
       "        [0., 0., 0., 0.],\n",
       "        [0., 0., 0., 0.],\n",
       "        [0., 0., 0., 0.]])"
      ]
     },
     "execution_count": 78,
     "metadata": {},
     "output_type": "execute_result"
    }
   ],
   "source": [
    "Q.grad"
   ]
  },
  {
   "cell_type": "code",
   "execution_count": null,
   "metadata": {},
   "outputs": [],
   "source": []
  }
 ],
 "metadata": {
  "kernelspec": {
   "display_name": "3d",
   "language": "python",
   "name": "python3"
  },
  "language_info": {
   "codemirror_mode": {
    "name": "ipython",
    "version": 3
   },
   "file_extension": ".py",
   "mimetype": "text/x-python",
   "name": "python",
   "nbconvert_exporter": "python",
   "pygments_lexer": "ipython3",
   "version": "3.10.16"
  }
 },
 "nbformat": 4,
 "nbformat_minor": 2
}
